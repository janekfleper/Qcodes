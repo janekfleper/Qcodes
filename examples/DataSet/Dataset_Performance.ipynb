{
 "cells": [
  {
   "cell_type": "markdown",
   "metadata": {},
   "source": [
    "# DataSet Performance\n",
    "\n",
    "This notebook shows the trade-off between inserting data into a database row-by-row and as binary blobs. Inserting the data row-by-row means that we have direct access to all the data and may perform queries directly on the values of the data. On the other hand, as we shall see, this is much slower than inserting the data directly as binary blobs."
   ]
  },
  {
   "cell_type": "markdown",
   "metadata": {},
   "source": [
    "First, we choose a new location for the database to ensure that we don't add a bunch of benchmarking data to the default one."
   ]
  },
  {
   "cell_type": "code",
   "execution_count": 1,
   "metadata": {
    "execution": {
     "iopub.execute_input": "2023-01-11T18:08:21.219764Z",
     "iopub.status.busy": "2023-01-11T18:08:21.219480Z",
     "iopub.status.idle": "2023-01-11T18:08:21.577461Z",
     "shell.execute_reply": "2023-01-11T18:08:21.576568Z"
    }
   },
   "outputs": [],
   "source": [
    "import os\n",
    "\n",
    "cwd = os.getcwd()\n",
    "import qcodes as qc\n",
    "\n",
    "qc.config[\"core\"][\"db_location\"] = os.path.join(cwd, 'testing.db')"
   ]
  },
  {
   "cell_type": "code",
   "execution_count": 2,
   "metadata": {
    "execution": {
     "iopub.execute_input": "2023-01-11T18:08:21.581666Z",
     "iopub.status.busy": "2023-01-11T18:08:21.581228Z",
     "iopub.status.idle": "2023-01-11T18:08:22.064317Z",
     "shell.execute_reply": "2023-01-11T18:08:22.063413Z"
    }
   },
   "outputs": [],
   "source": [
    "%matplotlib inline\n",
    "import time\n",
    "\n",
    "import matplotlib.pyplot as plt\n",
    "import numpy as np\n",
    "\n",
    "import qcodes as qc\n",
    "from qcodes.dataset import (\n",
    "    Measurement,\n",
    "    initialise_database,\n",
    "    load_last_experiment,\n",
    "    load_or_create_experiment,\n",
    "    new_experiment,\n",
    ")\n",
    "from qcodes.dataset.experiment_container import Experiment\n",
    "from qcodes.parameters import ManualParameter"
   ]
  },
  {
   "cell_type": "code",
   "execution_count": 3,
   "metadata": {
    "execution": {
     "iopub.execute_input": "2023-01-11T18:08:22.068291Z",
     "iopub.status.busy": "2023-01-11T18:08:22.067887Z",
     "iopub.status.idle": "2023-01-11T18:08:22.119769Z",
     "shell.execute_reply": "2023-01-11T18:08:22.118747Z"
    }
   },
   "outputs": [],
   "source": [
    "initialise_database()\n",
    "exp = load_or_create_experiment(experiment_name='tutorial_exp', sample_name=\"no sample\")"
   ]
  },
  {
   "cell_type": "markdown",
   "metadata": {},
   "source": [
    "Here, we define a simple function to benchmark the time it takes to insert n points with either numeric or array data type.\n",
    "We will compare both the time used to call ``add_result`` and the time used for the full measurement."
   ]
  },
  {
   "cell_type": "code",
   "execution_count": 4,
   "metadata": {
    "execution": {
     "iopub.execute_input": "2023-01-11T18:08:22.124283Z",
     "iopub.status.busy": "2023-01-11T18:08:22.123712Z",
     "iopub.status.idle": "2023-01-11T18:08:22.134922Z",
     "shell.execute_reply": "2023-01-11T18:08:22.134133Z"
    }
   },
   "outputs": [],
   "source": [
    "def insert_data(paramtype, npoints, nreps=1):\n",
    "\n",
    "    meas = Measurement(exp=exp)\n",
    "\n",
    "    x1 = ManualParameter('x1')\n",
    "    x2 = ManualParameter('x2')\n",
    "    x3 = ManualParameter('x3')\n",
    "    y1 = ManualParameter('y1')\n",
    "    y2 = ManualParameter('y2')\n",
    "\n",
    "    meas.register_parameter(x1, paramtype=paramtype)\n",
    "    meas.register_parameter(x2, paramtype=paramtype)\n",
    "    meas.register_parameter(x3, paramtype=paramtype)\n",
    "    meas.register_parameter(y1, setpoints=[x1, x2, x3],\n",
    "                            paramtype=paramtype)\n",
    "    meas.register_parameter(y2, setpoints=[x1, x2, x3],\n",
    "                            paramtype=paramtype)\n",
    "    start = time.perf_counter()\n",
    "    with meas.run() as datasaver:\n",
    "        start_adding = time.perf_counter()\n",
    "        for i in range(nreps):\n",
    "            datasaver.add_result((x1, np.random.rand(npoints)),\n",
    "                                 (x2, np.random.rand(npoints)),\n",
    "                                 (x3, np.random.rand(npoints)),\n",
    "                                 (y1, np.random.rand(npoints)),\n",
    "                                 (y2, np.random.rand(npoints)))\n",
    "        stop_adding = time.perf_counter()\n",
    "        run_id = datasaver.run_id\n",
    "    stop = time.perf_counter()\n",
    "    tot_time = stop - start\n",
    "    add_time = stop_adding - start_adding\n",
    "    return tot_time, add_time, run_id"
   ]
  },
  {
   "cell_type": "markdown",
   "metadata": {},
   "source": [
    "## Comparison between numeric/array data and binary blob"
   ]
  },
  {
   "cell_type": "markdown",
   "metadata": {},
   "source": [
    "### Case1: Short experiment time"
   ]
  },
  {
   "cell_type": "code",
   "execution_count": 5,
   "metadata": {
    "execution": {
     "iopub.execute_input": "2023-01-11T18:08:22.138308Z",
     "iopub.status.busy": "2023-01-11T18:08:22.138018Z",
     "iopub.status.idle": "2023-01-11T18:08:22.716140Z",
     "shell.execute_reply": "2023-01-11T18:08:22.715338Z"
    }
   },
   "outputs": [
    {
     "name": "stdout",
     "output_type": "stream",
     "text": [
      "Starting experimental run with id: 1. \n",
      "Starting experimental run with id: 2. \n",
      "Starting experimental run with id: 3. \n",
      "Starting experimental run with id: 4. \n",
      "Starting experimental run with id: 5. \n",
      "Starting experimental run with id: 6. \n",
      "Starting experimental run with id: 7. \n"
     ]
    },
    {
     "name": "stdout",
     "output_type": "stream",
     "text": [
      "Starting experimental run with id: 8. \n",
      "Starting experimental run with id: 9. \n",
      "Starting experimental run with id: 10. \n",
      "Starting experimental run with id: 11. \n"
     ]
    },
    {
     "name": "stdout",
     "output_type": "stream",
     "text": [
      "Starting experimental run with id: 12. \n",
      "Starting experimental run with id: 13. \n",
      "Starting experimental run with id: 14. \n"
     ]
    }
   ],
   "source": [
    "sizes = [1,500,1000,2000,3000,4000,5000]\n",
    "t_numeric = []\n",
    "t_numeric_add = []\n",
    "t_array = []\n",
    "t_array_add = []\n",
    "for size in sizes:\n",
    "    tn, tna, run_id_n =  insert_data('numeric', size)\n",
    "    t_numeric.append(tn)\n",
    "    t_numeric_add.append(tna)\n",
    "\n",
    "    ta, taa, run_id_a =  insert_data('array', size)\n",
    "    t_array.append(ta)\n",
    "    t_array_add.append(taa)"
   ]
  },
  {
   "cell_type": "code",
   "execution_count": 6,
   "metadata": {
    "execution": {
     "iopub.execute_input": "2023-01-11T18:08:22.719827Z",
     "iopub.status.busy": "2023-01-11T18:08:22.719381Z",
     "iopub.status.idle": "2023-01-11T18:08:22.963628Z",
     "shell.execute_reply": "2023-01-11T18:08:22.962934Z"
    }
   },
   "outputs": [
    {
     "data": {
      "image/png": "[encoded data removed]",
      "text/plain": [
       "<Figure size 640x480 with 1 Axes>"
      ]
     },
     "metadata": {},
     "output_type": "display_data"
    }
   ],
   "source": [
    "fig, ax = plt.subplots(1,1)\n",
    "ax.plot(sizes, t_numeric, 'o-', label='Inserting row-by-row')\n",
    "ax.plot(sizes, t_numeric_add, 'o-', label='Inserting row-by-row: add_result only')\n",
    "ax.plot(sizes, t_array, 'd-', label='Inserting as binary blob')\n",
    "ax.plot(sizes, t_array_add, 'd-', label='Inserting as binary blob: add_result only')\n",
    "ax.legend()\n",
    "ax.set_xlabel('Array length')\n",
    "ax.set_ylabel('Time (s)')\n",
    "fig.tight_layout()"
   ]
  },
  {
   "cell_type": "markdown",
   "metadata": {},
   "source": [
    "As shown in the latter figure, the time to setup and and close the experiment is approximately 0.4 sec. In case of small array sizes, the difference between inserting values of data as arrays and inserting them row-by-row is relatively unimportant. At larger array sizes, i.e. above 10000 points, the cost of writing data as individual datapoints starts to become important.\n"
   ]
  },
  {
   "cell_type": "markdown",
   "metadata": {},
   "source": [
    "### Case2: Long experiment time "
   ]
  },
  {
   "cell_type": "code",
   "execution_count": 7,
   "metadata": {
    "execution": {
     "iopub.execute_input": "2023-01-11T18:08:22.969331Z",
     "iopub.status.busy": "2023-01-11T18:08:22.968659Z",
     "iopub.status.idle": "2023-01-11T18:08:55.254045Z",
     "shell.execute_reply": "2023-01-11T18:08:55.253250Z"
    }
   },
   "outputs": [
    {
     "name": "stdout",
     "output_type": "stream",
     "text": [
      "Starting experimental run with id: 15. \n",
      "Starting experimental run with id: 16. \n",
      "Starting experimental run with id: 17. \n"
     ]
    },
    {
     "name": "stdout",
     "output_type": "stream",
     "text": [
      "Starting experimental run with id: 18. \n",
      "Starting experimental run with id: 19. \n"
     ]
    },
    {
     "name": "stdout",
     "output_type": "stream",
     "text": [
      "Starting experimental run with id: 20. \n",
      "Starting experimental run with id: 21. \n"
     ]
    },
    {
     "name": "stdout",
     "output_type": "stream",
     "text": [
      "Starting experimental run with id: 22. \n"
     ]
    },
    {
     "name": "stdout",
     "output_type": "stream",
     "text": [
      "Starting experimental run with id: 23. \n"
     ]
    },
    {
     "name": "stdout",
     "output_type": "stream",
     "text": [
      "Starting experimental run with id: 24. \n"
     ]
    },
    {
     "name": "stdout",
     "output_type": "stream",
     "text": [
      "Starting experimental run with id: 25. \n"
     ]
    },
    {
     "name": "stdout",
     "output_type": "stream",
     "text": [
      "Starting experimental run with id: 26. \n"
     ]
    },
    {
     "name": "stdout",
     "output_type": "stream",
     "text": [
      "Starting experimental run with id: 27. \n"
     ]
    },
    {
     "name": "stdout",
     "output_type": "stream",
     "text": [
      "Starting experimental run with id: 28. \n"
     ]
    }
   ],
   "source": [
    "sizes = [1,500,1000,2000,3000,4000,5000]\n",
    "nreps = 100\n",
    "t_numeric = []\n",
    "t_numeric_add = []\n",
    "t_numeric_run_ids = []\n",
    "t_array = []\n",
    "t_array_add = []\n",
    "t_array_run_ids = []\n",
    "for size in sizes:\n",
    "    tn, tna, run_id_n =  insert_data('numeric', size, nreps=nreps)\n",
    "    t_numeric.append(tn)\n",
    "    t_numeric_add.append(tna)\n",
    "    t_numeric_run_ids.append(run_id_n)\n",
    "\n",
    "    ta, taa, run_id_a =  insert_data('array', size, nreps=nreps)\n",
    "    t_array.append(ta)\n",
    "    t_array_add.append(taa)\n",
    "    t_array_run_ids.append(run_id_a)"
   ]
  },
  {
   "cell_type": "code",
   "execution_count": 8,
   "metadata": {
    "execution": {
     "iopub.execute_input": "2023-01-11T18:08:55.258399Z",
     "iopub.status.busy": "2023-01-11T18:08:55.257723Z",
     "iopub.status.idle": "2023-01-11T18:08:55.488958Z",
     "shell.execute_reply": "2023-01-11T18:08:55.487898Z"
    },
    "scrolled": true
   },
   "outputs": [
    {
     "data": {
      "image/png": "[encoded data removed]",
      "text/plain": [
       "<Figure size 640x480 with 1 Axes>"
      ]
     },
     "metadata": {},
     "output_type": "display_data"
    }
   ],
   "source": [
    "fig, ax = plt.subplots(1,1)\n",
    "ax.plot(sizes, t_numeric, 'o-', label='Inserting row-by-row')\n",
    "ax.plot(sizes, t_numeric_add, 'o-', label='Inserting row-by-row: add_result only')\n",
    "ax.plot(sizes, t_array, 'd-', label='Inserting as binary blob')\n",
    "ax.plot(sizes, t_array_add, 'd-', label='Inserting as binary blob: add_result only')\n",
    "ax.legend()\n",
    "ax.set_xlabel('Array length')\n",
    "ax.set_ylabel('Time (s)')\n",
    "fig.tight_layout()"
   ]
  },
  {
   "cell_type": "markdown",
   "metadata": {},
   "source": [
    "However, as we increase the length of the experiment, as seen here by repeating the insertion 100 times, we see a big difference between inserting values of the data row-by-row and inserting it as a binary blob."
   ]
  },
  {
   "cell_type": "markdown",
   "metadata": {},
   "source": [
    "## Loading the data "
   ]
  },
  {
   "cell_type": "code",
   "execution_count": 9,
   "metadata": {
    "execution": {
     "iopub.execute_input": "2023-01-11T18:08:55.492868Z",
     "iopub.status.busy": "2023-01-11T18:08:55.492585Z",
     "iopub.status.idle": "2023-01-11T18:08:55.496488Z",
     "shell.execute_reply": "2023-01-11T18:08:55.495482Z"
    }
   },
   "outputs": [],
   "source": [
    "from qcodes.dataset import load_by_id"
   ]
  },
  {
   "cell_type": "markdown",
   "metadata": {},
   "source": [
    "As usual you can load the data by using the ``load_by_id`` function but you will notice that the different storage methods\n",
    "are reflected in shape of the data as it is retrieved. "
   ]
  },
  {
   "cell_type": "code",
   "execution_count": 10,
   "metadata": {
    "execution": {
     "iopub.execute_input": "2023-01-11T18:08:55.501797Z",
     "iopub.status.busy": "2023-01-11T18:08:55.501534Z",
     "iopub.status.idle": "2023-01-11T18:08:55.505073Z",
     "shell.execute_reply": "2023-01-11T18:08:55.504211Z"
    }
   },
   "outputs": [],
   "source": [
    "run_id_n = t_numeric_run_ids[0]\n",
    "run_id_a = t_array_run_ids[0]"
   ]
  },
  {
   "cell_type": "code",
   "execution_count": 11,
   "metadata": {
    "execution": {
     "iopub.execute_input": "2023-01-11T18:08:55.508868Z",
     "iopub.status.busy": "2023-01-11T18:08:55.508611Z",
     "iopub.status.idle": "2023-01-11T18:08:55.518260Z",
     "shell.execute_reply": "2023-01-11T18:08:55.517534Z"
    },
    "scrolled": true
   },
   "outputs": [
    {
     "data": {
      "text/plain": [
       "{'x1': {'x1': array([0.51142309, 0.51142309, 0.95854204, 0.95854204, 0.25753196,\n",
       "         0.25753196, 0.93318729, 0.93318729, 0.97257579, 0.97257579,\n",
       "         0.11186086, 0.11186086, 0.97937426, 0.97937426, 0.32846831,\n",
       "         0.32846831, 0.81114462, 0.81114462, 0.67369638, 0.67369638,\n",
       "         0.8224862 , 0.8224862 , 0.20603029, 0.20603029, 0.10922512,\n",
       "         0.10922512, 0.32242197, 0.32242197, 0.96881233, 0.96881233,\n",
       "         0.9515747 , 0.9515747 , 0.68336695, 0.68336695, 0.63365343,\n",
       "         0.63365343, 0.51194494, 0.51194494, 0.57905918, 0.57905918,\n",
       "         0.88586632, 0.88586632, 0.18281442, 0.18281442, 0.3572095 ,\n",
       "         0.3572095 , 0.89574627, 0.89574627, 0.51667116, 0.51667116,\n",
       "         0.07055645, 0.07055645, 0.01019131, 0.01019131, 0.70987644,\n",
       "         0.70987644, 0.13923436, 0.13923436, 0.22466205, 0.22466205,\n",
       "         0.74044205, 0.74044205, 0.20272158, 0.20272158, 0.03569917,\n",
       "         0.03569917, 0.97327469, 0.97327469, 0.32687967, 0.32687967,\n",
       "         0.41047343, 0.41047343, 0.41363584, 0.41363584, 0.07351484,\n",
       "         0.07351484, 0.8977153 , 0.8977153 , 0.80855844, 0.80855844,\n",
       "         0.49679892, 0.49679892, 0.85951828, 0.85951828, 0.19026855,\n",
       "         0.19026855, 0.30474701, 0.30474701, 0.1278338 , 0.1278338 ,\n",
       "         0.87099537, 0.87099537, 0.21177119, 0.21177119, 0.02233708,\n",
       "         0.02233708, 0.54315707, 0.54315707, 0.26564507, 0.26564507,\n",
       "         0.64625378, 0.64625378, 0.7223827 , 0.7223827 , 0.03558483,\n",
       "         0.03558483, 0.35555938, 0.35555938, 0.67341663, 0.67341663,\n",
       "         0.69241895, 0.69241895, 0.35413065, 0.35413065, 0.79675202,\n",
       "         0.79675202, 0.37747349, 0.37747349, 0.51644651, 0.51644651,\n",
       "         0.79223556, 0.79223556, 0.267058  , 0.267058  , 0.42155164,\n",
       "         0.42155164, 0.83484129, 0.83484129, 0.96257619, 0.96257619,\n",
       "         0.68530439, 0.68530439, 0.38244574, 0.38244574, 0.74071693,\n",
       "         0.74071693, 0.04199429, 0.04199429, 0.05259943, 0.05259943,\n",
       "         0.36362536, 0.36362536, 0.4648706 , 0.4648706 , 0.89823065,\n",
       "         0.89823065, 0.89775   , 0.89775   , 0.48607284, 0.48607284,\n",
       "         0.52043664, 0.52043664, 0.17801576, 0.17801576, 0.59701475,\n",
       "         0.59701475, 0.26350198, 0.26350198, 0.46881826, 0.46881826,\n",
       "         0.06743674, 0.06743674, 0.96606817, 0.96606817, 0.24224238,\n",
       "         0.24224238, 0.22374749, 0.22374749, 0.36864016, 0.36864016,\n",
       "         0.10275517, 0.10275517, 0.59191527, 0.59191527, 0.30787059,\n",
       "         0.30787059, 0.83288315, 0.83288315, 0.41733894, 0.41733894,\n",
       "         0.32552163, 0.32552163, 0.59891781, 0.59891781, 0.85955295,\n",
       "         0.85955295, 0.51471627, 0.51471627, 0.80728177, 0.80728177,\n",
       "         0.24120239, 0.24120239, 0.8224231 , 0.8224231 , 0.98832037,\n",
       "         0.98832037, 0.9172325 , 0.9172325 , 0.26366831, 0.26366831])}}"
      ]
     },
     "execution_count": 11,
     "metadata": {},
     "output_type": "execute_result"
    }
   ],
   "source": [
    "ds = load_by_id(run_id_n)\n",
    "ds.get_parameter_data('x1')"
   ]
  },
  {
   "cell_type": "markdown",
   "metadata": {},
   "source": [
    "And a dataset stored as binary arrays"
   ]
  },
  {
   "cell_type": "code",
   "execution_count": 12,
   "metadata": {
    "execution": {
     "iopub.execute_input": "2023-01-11T18:08:55.521471Z",
     "iopub.status.busy": "2023-01-11T18:08:55.521217Z",
     "iopub.status.idle": "2023-01-11T18:08:55.543469Z",
     "shell.execute_reply": "2023-01-11T18:08:55.542725Z"
    },
    "scrolled": true
   },
   "outputs": [
    {
     "data": {
      "text/plain": [
       "{'x1': {'x1': array([[8.03761941e-01],\n",
       "         [8.03761941e-01],\n",
       "         [8.12902939e-01],\n",
       "         [8.12902939e-01],\n",
       "         [1.48608327e-01],\n",
       "         [1.48608327e-01],\n",
       "         [4.15814288e-01],\n",
       "         [4.15814288e-01],\n",
       "         [2.07518400e-02],\n",
       "         [2.07518400e-02],\n",
       "         [6.86376594e-01],\n",
       "         [6.86376594e-01],\n",
       "         [8.39846514e-02],\n",
       "         [8.39846514e-02],\n",
       "         [4.34009866e-01],\n",
       "         [4.34009866e-01],\n",
       "         [4.27246892e-01],\n",
       "         [4.27246892e-01],\n",
       "         [5.90564425e-01],\n",
       "         [5.90564425e-01],\n",
       "         [7.89390865e-02],\n",
       "         [7.89390865e-02],\n",
       "         [2.84370252e-01],\n",
       "         [2.84370252e-01],\n",
       "         [3.46273148e-01],\n",
       "         [3.46273148e-01],\n",
       "         [8.51717283e-01],\n",
       "         [8.51717283e-01],\n",
       "         [7.72853958e-01],\n",
       "         [7.72853958e-01],\n",
       "         [1.17174453e-01],\n",
       "         [1.17174453e-01],\n",
       "         [9.03994996e-02],\n",
       "         [9.03994996e-02],\n",
       "         [4.14433731e-01],\n",
       "         [4.14433731e-01],\n",
       "         [5.37097073e-01],\n",
       "         [5.37097073e-01],\n",
       "         [2.77736190e-01],\n",
       "         [2.77736190e-01],\n",
       "         [3.96547192e-01],\n",
       "         [3.96547192e-01],\n",
       "         [3.84204157e-01],\n",
       "         [3.84204157e-01],\n",
       "         [5.17352886e-01],\n",
       "         [5.17352886e-01],\n",
       "         [6.90959672e-01],\n",
       "         [6.90959672e-01],\n",
       "         [8.67129327e-01],\n",
       "         [8.67129327e-01],\n",
       "         [8.93316677e-02],\n",
       "         [8.93316677e-02],\n",
       "         [7.51057245e-01],\n",
       "         [7.51057245e-01],\n",
       "         [1.45269930e-01],\n",
       "         [1.45269930e-01],\n",
       "         [5.69604063e-02],\n",
       "         [5.69604063e-02],\n",
       "         [9.01409094e-01],\n",
       "         [9.01409094e-01],\n",
       "         [5.13304656e-01],\n",
       "         [5.13304656e-01],\n",
       "         [8.39579525e-01],\n",
       "         [8.39579525e-01],\n",
       "         [1.29171323e-01],\n",
       "         [1.29171323e-01],\n",
       "         [6.80171837e-01],\n",
       "         [6.80171837e-01],\n",
       "         [5.32197778e-01],\n",
       "         [5.32197778e-01],\n",
       "         [1.72932418e-01],\n",
       "         [1.72932418e-01],\n",
       "         [4.63672779e-01],\n",
       "         [4.63672779e-01],\n",
       "         [1.85076157e-01],\n",
       "         [1.85076157e-01],\n",
       "         [9.95066692e-03],\n",
       "         [9.95066692e-03],\n",
       "         [2.62007731e-01],\n",
       "         [2.62007731e-01],\n",
       "         [1.45013414e-01],\n",
       "         [1.45013414e-01],\n",
       "         [7.73370952e-01],\n",
       "         [7.73370952e-01],\n",
       "         [4.95739634e-01],\n",
       "         [4.95739634e-01],\n",
       "         [3.55313850e-01],\n",
       "         [3.55313850e-01],\n",
       "         [6.29188547e-01],\n",
       "         [6.29188547e-01],\n",
       "         [3.33574980e-01],\n",
       "         [3.33574980e-01],\n",
       "         [5.03607465e-01],\n",
       "         [5.03607465e-01],\n",
       "         [6.77823063e-01],\n",
       "         [6.77823063e-01],\n",
       "         [1.73177068e-01],\n",
       "         [1.73177068e-01],\n",
       "         [8.64438256e-01],\n",
       "         [8.64438256e-01],\n",
       "         [5.36962661e-01],\n",
       "         [5.36962661e-01],\n",
       "         [4.59982092e-01],\n",
       "         [4.59982092e-01],\n",
       "         [2.34705503e-02],\n",
       "         [2.34705503e-02],\n",
       "         [7.88074920e-01],\n",
       "         [7.88074920e-01],\n",
       "         [4.60587321e-01],\n",
       "         [4.60587321e-01],\n",
       "         [4.54323486e-01],\n",
       "         [4.54323486e-01],\n",
       "         [5.58867095e-01],\n",
       "         [5.58867095e-01],\n",
       "         [8.75486200e-01],\n",
       "         [8.75486200e-01],\n",
       "         [5.05752627e-01],\n",
       "         [5.05752627e-01],\n",
       "         [7.82608695e-01],\n",
       "         [7.82608695e-01],\n",
       "         [7.60985396e-01],\n",
       "         [7.60985396e-01],\n",
       "         [4.73685567e-01],\n",
       "         [4.73685567e-01],\n",
       "         [8.05918208e-01],\n",
       "         [8.05918208e-01],\n",
       "         [1.84571373e-01],\n",
       "         [1.84571373e-01],\n",
       "         [3.00614730e-01],\n",
       "         [3.00614730e-01],\n",
       "         [6.95223085e-01],\n",
       "         [6.95223085e-01],\n",
       "         [4.47852538e-01],\n",
       "         [4.47852538e-01],\n",
       "         [1.16214485e-01],\n",
       "         [1.16214485e-01],\n",
       "         [3.57573352e-01],\n",
       "         [3.57573352e-01],\n",
       "         [7.64157171e-01],\n",
       "         [7.64157171e-01],\n",
       "         [3.60477161e-01],\n",
       "         [3.60477161e-01],\n",
       "         [2.70154844e-01],\n",
       "         [2.70154844e-01],\n",
       "         [2.03489112e-01],\n",
       "         [2.03489112e-01],\n",
       "         [3.55955665e-01],\n",
       "         [3.55955665e-01],\n",
       "         [5.80508597e-01],\n",
       "         [5.80508597e-01],\n",
       "         [2.25869474e-01],\n",
       "         [2.25869474e-01],\n",
       "         [3.75519375e-01],\n",
       "         [3.75519375e-01],\n",
       "         [4.62083898e-01],\n",
       "         [4.62083898e-01],\n",
       "         [1.41591474e-01],\n",
       "         [1.41591474e-01],\n",
       "         [3.67038833e-02],\n",
       "         [3.67038833e-02],\n",
       "         [1.60227354e-04],\n",
       "         [1.60227354e-04],\n",
       "         [2.24803269e-01],\n",
       "         [2.24803269e-01],\n",
       "         [9.64612333e-01],\n",
       "         [9.64612333e-01],\n",
       "         [2.51312812e-01],\n",
       "         [2.51312812e-01],\n",
       "         [3.03746980e-01],\n",
       "         [3.03746980e-01],\n",
       "         [3.91223195e-01],\n",
       "         [3.91223195e-01],\n",
       "         [6.50759757e-01],\n",
       "         [6.50759757e-01],\n",
       "         [6.27293063e-01],\n",
       "         [6.27293063e-01],\n",
       "         [3.19609220e-01],\n",
       "         [3.19609220e-01],\n",
       "         [8.86001751e-01],\n",
       "         [8.86001751e-01],\n",
       "         [8.04434863e-01],\n",
       "         [8.04434863e-01],\n",
       "         [7.34157068e-01],\n",
       "         [7.34157068e-01],\n",
       "         [8.89146263e-01],\n",
       "         [8.89146263e-01],\n",
       "         [5.92271011e-01],\n",
       "         [5.92271011e-01],\n",
       "         [9.85617110e-01],\n",
       "         [9.85617110e-01],\n",
       "         [9.48235145e-01],\n",
       "         [9.48235145e-01],\n",
       "         [7.30816726e-01],\n",
       "         [7.30816726e-01],\n",
       "         [9.68069168e-01],\n",
       "         [9.68069168e-01],\n",
       "         [4.98022785e-01],\n",
       "         [4.98022785e-01],\n",
       "         [7.68113153e-01],\n",
       "         [7.68113153e-01]])}}"
      ]
     },
     "execution_count": 12,
     "metadata": {},
     "output_type": "execute_result"
    }
   ],
   "source": [
    "ds = load_by_id(run_id_a)\n",
    "ds.get_parameter_data('x1')"
   ]
  },
  {
   "cell_type": "code",
   "execution_count": null,
   "metadata": {},
   "outputs": [],
   "source": []
  }
 ],
 "metadata": {
  "kernelspec": {
   "display_name": "Python 3",
   "language": "python",
   "name": "python3"
  },
  "language_info": {
   "codemirror_mode": {
    "name": "ipython",
    "version": 3
   },
   "file_extension": ".py",
   "mimetype": "text/x-python",
   "name": "python",
   "nbconvert_exporter": "python",
   "pygments_lexer": "ipython3",
   "version": "3.10.9"
  },
  "nbsphinx": {
   "timeout": 600
  },
  "toc": {
   "base_numbering": 1,
   "nav_menu": {},
   "number_sections": true,
   "sideBar": true,
   "skip_h1_title": false,
   "title_cell": "Table of Contents",
   "title_sidebar": "Contents",
   "toc_cell": false,
   "toc_position": {},
   "toc_section_display": true,
   "toc_window_display": false
  },
  "varInspector": {
   "cols": {
    "lenName": 16,
    "lenType": 16,
    "lenVar": 40
   },
   "kernels_config": {
    "python": {
     "delete_cmd_postfix": "",
     "delete_cmd_prefix": "del ",
     "library": "var_list.py",
     "varRefreshCmd": "print(var_dic_list())"
    },
    "r": {
     "delete_cmd_postfix": ") ",
     "delete_cmd_prefix": "rm(",
     "library": "var_list.r",
     "varRefreshCmd": "cat(var_dic_list()) "
    }
   },
   "types_to_exclude": [
    "module",
    "function",
    "builtin_function_or_method",
    "instance",
    "_Feature"
   ],
   "window_display": false
  }
 },
 "nbformat": 4,
 "nbformat_minor": 4
}
