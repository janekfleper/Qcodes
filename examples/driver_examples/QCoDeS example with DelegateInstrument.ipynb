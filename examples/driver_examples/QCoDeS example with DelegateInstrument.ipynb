{
 "cells": [
  {
   "cell_type": "markdown",
   "id": "plain-primary",
   "metadata": {},
   "source": [
    "# Qcodes example with DelegateInstrument driver\n",
    "\n",
    "This notebooks explains how to use the `DelegateInstrument` driver.\n",
    "\n",
    "## About\n",
    "The goal of the `DelegateInstrument` driver is to make it easier to combine different parameters together into a new \"virtual\" instrument. Each parameter on a `DelegateInstrument` can point to one or more parameters on other instruments in the station.\n",
    "\n",
    "## Usage\n",
    "The way it's used is mainly by specifying an entry in the station YAML. For instance, let's say you want to use a magnetic field coil. The driver has a method set_field(value, block), that by default is set to block=True, which means the field is ramped in a way that blocks further execution until the desired value is reached. However, let's say you are creating a measurement in which you want the parameter to be set, and while the value is ramping, you want to measure other parameters. This can be done by using `DelegateInstrument` and specifying a custom `setter` for the parameter that gets and sets the magnetic field.\n",
    "\n",
    "By default, each parameter is represented by a `DelegateParameter`. The `DelegateInstrument` also supports passing multiple source parameters to a given parameter. In order to do this, simply specify multiple parameters in the dictionary values  under the `parameters` key.\n",
    "\n",
    "It can also add instrument channels, specified under a separate key `channels`, shown in the second half of the notebook."
   ]
  },
  {
   "cell_type": "code",
   "execution_count": 1,
   "id": "sapphire-quebec",
   "metadata": {
    "execution": {
     "iopub.execute_input": "2023-01-11T18:14:39.135975Z",
     "iopub.status.busy": "2023-01-11T18:14:39.135710Z",
     "iopub.status.idle": "2023-01-11T18:14:39.145255Z",
     "shell.execute_reply": "2023-01-11T18:14:39.144480Z"
    }
   },
   "outputs": [
    {
     "name": "stdout",
     "output_type": "stream",
     "text": [
      "Writing example.yaml\n"
     ]
    }
   ],
   "source": [
    "%%writefile example.yaml\n",
    "\n",
    "instruments:\n",
    "  field_X:\n",
    "    type: qcodes.tests.instrument_mocks.MockField\n",
    "\n",
    "  field:\n",
    "    type: qcodes.instrument.delegate.DelegateInstrument\n",
    "    init:\n",
    "      parameters:\n",
    "        X:\n",
    "          - field_X.field\n",
    "        ramp_rate:\n",
    "          - field_X.ramp_rate\n",
    "        combined:\n",
    "          - field_X.field\n",
    "          - field_X.ramp_rate\n",
    "      set_initial_values_on_load: true\n",
    "      initial_values:\n",
    "        ramp_rate: 1.0\n",
    "      setters:\n",
    "        X:\n",
    "          method: field_X.set_field\n",
    "          block: false"
   ]
  },
  {
   "cell_type": "code",
   "execution_count": 2,
   "id": "younger-newspaper",
   "metadata": {
    "execution": {
     "iopub.execute_input": "2023-01-11T18:14:39.149411Z",
     "iopub.status.busy": "2023-01-11T18:14:39.148756Z",
     "iopub.status.idle": "2023-01-11T18:14:39.478103Z",
     "shell.execute_reply": "2023-01-11T18:14:39.476871Z"
    }
   },
   "outputs": [],
   "source": [
    "import qcodes as qc\n",
    "from qcodes.dataset import Measurement"
   ]
  },
  {
   "cell_type": "code",
   "execution_count": 3,
   "id": "muslim-briefs",
   "metadata": {
    "execution": {
     "iopub.execute_input": "2023-01-11T18:14:39.482366Z",
     "iopub.status.busy": "2023-01-11T18:14:39.482036Z",
     "iopub.status.idle": "2023-01-11T18:14:39.512708Z",
     "shell.execute_reply": "2023-01-11T18:14:39.511479Z"
    }
   },
   "outputs": [],
   "source": [
    "station = qc.Station(config_file=\"example.yaml\")"
   ]
  },
  {
   "cell_type": "code",
   "execution_count": 4,
   "id": "greatest-antenna",
   "metadata": {
    "execution": {
     "iopub.execute_input": "2023-01-11T18:14:39.516260Z",
     "iopub.status.busy": "2023-01-11T18:14:39.515975Z",
     "iopub.status.idle": "2023-01-11T18:14:39.548136Z",
     "shell.execute_reply": "2023-01-11T18:14:39.547263Z"
    }
   },
   "outputs": [],
   "source": [
    "field_X = station.load_field_X()\n",
    "field = station.load_field(station=station)"
   ]
  },
  {
   "cell_type": "code",
   "execution_count": 5,
   "id": "every-playing",
   "metadata": {
    "execution": {
     "iopub.execute_input": "2023-01-11T18:14:39.551526Z",
     "iopub.status.busy": "2023-01-11T18:14:39.550863Z",
     "iopub.status.idle": "2023-01-11T18:14:39.562729Z",
     "shell.execute_reply": "2023-01-11T18:14:39.561815Z"
    }
   },
   "outputs": [
    {
     "data": {
      "text/plain": [
       "0.0"
      ]
     },
     "execution_count": 5,
     "metadata": {},
     "output_type": "execute_result"
    }
   ],
   "source": [
    "field.X()"
   ]
  },
  {
   "cell_type": "code",
   "execution_count": 6,
   "id": "undefined-worst",
   "metadata": {
    "execution": {
     "iopub.execute_input": "2023-01-11T18:14:39.567188Z",
     "iopub.status.busy": "2023-01-11T18:14:39.565807Z",
     "iopub.status.idle": "2023-01-11T18:14:39.570868Z",
     "shell.execute_reply": "2023-01-11T18:14:39.570246Z"
    }
   },
   "outputs": [],
   "source": [
    "field.X(1.)"
   ]
  },
  {
   "cell_type": "code",
   "execution_count": 7,
   "id": "recreational-suggestion",
   "metadata": {
    "execution": {
     "iopub.execute_input": "2023-01-11T18:14:39.574346Z",
     "iopub.status.busy": "2023-01-11T18:14:39.573626Z",
     "iopub.status.idle": "2023-01-11T18:14:39.581008Z",
     "shell.execute_reply": "2023-01-11T18:14:39.580059Z"
    }
   },
   "outputs": [
    {
     "data": {
      "text/plain": [
       "0.00011694033940633138"
      ]
     },
     "execution_count": 7,
     "metadata": {},
     "output_type": "execute_result"
    }
   ],
   "source": [
    "field.X()"
   ]
  },
  {
   "cell_type": "code",
   "execution_count": 8,
   "id": "adopted-exchange",
   "metadata": {
    "execution": {
     "iopub.execute_input": "2023-01-11T18:14:39.584675Z",
     "iopub.status.busy": "2023-01-11T18:14:39.584293Z",
     "iopub.status.idle": "2023-01-11T18:14:39.590884Z",
     "shell.execute_reply": "2023-01-11T18:14:39.590255Z"
    }
   },
   "outputs": [
    {
     "data": {
      "text/plain": [
       "0.00028844674428304035"
      ]
     },
     "execution_count": 8,
     "metadata": {},
     "output_type": "execute_result"
    }
   ],
   "source": [
    "field.X()"
   ]
  },
  {
   "cell_type": "code",
   "execution_count": 9,
   "id": "bound-broadcasting",
   "metadata": {
    "execution": {
     "iopub.execute_input": "2023-01-11T18:14:39.594080Z",
     "iopub.status.busy": "2023-01-11T18:14:39.593647Z",
     "iopub.status.idle": "2023-01-11T18:14:39.600678Z",
     "shell.execute_reply": "2023-01-11T18:14:39.599954Z"
    }
   },
   "outputs": [
    {
     "data": {
      "text/plain": [
       "0.00044438441594441734"
      ]
     },
     "execution_count": 9,
     "metadata": {},
     "output_type": "execute_result"
    }
   ],
   "source": [
    "field.X()"
   ]
  },
  {
   "cell_type": "code",
   "execution_count": 10,
   "id": "casual-ghost",
   "metadata": {
    "execution": {
     "iopub.execute_input": "2023-01-11T18:14:39.603669Z",
     "iopub.status.busy": "2023-01-11T18:14:39.603430Z",
     "iopub.status.idle": "2023-01-11T18:14:39.610291Z",
     "shell.execute_reply": "2023-01-11T18:14:39.609487Z"
    }
   },
   "outputs": [
    {
     "data": {
      "text/plain": [
       "0.0006039102872212727"
      ]
     },
     "execution_count": 10,
     "metadata": {},
     "output_type": "execute_result"
    }
   ],
   "source": [
    "field.X()"
   ]
  },
  {
   "cell_type": "markdown",
   "id": "alike-process",
   "metadata": {},
   "source": [
    "As you can see, the field is now ramped in the background with the specified ramp rate. Now, let's try to create a measurement that uses this ability, and ramps the field in the background while measuring:"
   ]
  },
  {
   "cell_type": "code",
   "execution_count": 11,
   "id": "sustained-tiger",
   "metadata": {
    "execution": {
     "iopub.execute_input": "2023-01-11T18:14:39.613385Z",
     "iopub.status.busy": "2023-01-11T18:14:39.612984Z",
     "iopub.status.idle": "2023-01-11T18:14:39.620124Z",
     "shell.execute_reply": "2023-01-11T18:14:39.619431Z"
    }
   },
   "outputs": [],
   "source": [
    "field.ramp_rate(10.)\n",
    "field_X.field(0.0)"
   ]
  },
  {
   "cell_type": "code",
   "execution_count": 12,
   "id": "pharmaceutical-partition",
   "metadata": {
    "execution": {
     "iopub.execute_input": "2023-01-11T18:14:39.623195Z",
     "iopub.status.busy": "2023-01-11T18:14:39.622807Z",
     "iopub.status.idle": "2023-01-11T18:14:39.627218Z",
     "shell.execute_reply": "2023-01-11T18:14:39.626494Z"
    }
   },
   "outputs": [
    {
     "data": {
      "text/plain": [
       "0.0"
      ]
     },
     "execution_count": 12,
     "metadata": {},
     "output_type": "execute_result"
    }
   ],
   "source": [
    "field.X()"
   ]
  },
  {
   "cell_type": "code",
   "execution_count": 13,
   "id": "happy-ordinance",
   "metadata": {
    "execution": {
     "iopub.execute_input": "2023-01-11T18:14:39.631065Z",
     "iopub.status.busy": "2023-01-11T18:14:39.630658Z",
     "iopub.status.idle": "2023-01-11T18:14:40.868157Z",
     "shell.execute_reply": "2023-01-11T18:14:40.866997Z"
    }
   },
   "outputs": [
    {
     "name": "stdout",
     "output_type": "stream",
     "text": [
      "Starting experimental run with id: 60. \n"
     ]
    }
   ],
   "source": [
    "import time\n",
    "\n",
    "meas = Measurement(station=station)\n",
    "meas.register_parameter(field.X)\n",
    "\n",
    "with meas.run() as datasaver:\n",
    "    for B in [0.1, 0.0]:\n",
    "        field.X(B)\n",
    "        while field.X() != B:\n",
    "            datasaver.add_result((field.X, field.X()))\n",
    "            time.sleep(0.01)\n",
    "    datasaver.flush_data_to_database()"
   ]
  },
  {
   "cell_type": "code",
   "execution_count": 14,
   "id": "short-medium",
   "metadata": {
    "execution": {
     "iopub.execute_input": "2023-01-11T18:14:40.872337Z",
     "iopub.status.busy": "2023-01-11T18:14:40.871660Z",
     "iopub.status.idle": "2023-01-11T18:14:41.632989Z",
     "shell.execute_reply": "2023-01-11T18:14:41.631900Z"
    }
   },
   "outputs": [
    {
     "data": {
      "text/plain": [
       "<AxesSubplot: >"
      ]
     },
     "execution_count": 14,
     "metadata": {},
     "output_type": "execute_result"
    },
    {
     "data": {
      "image/png": "[encoded data removed]",
      "text/plain": [
       "<Figure size 640x480 with 1 Axes>"
      ]
     },
     "metadata": {},
     "output_type": "display_data"
    }
   ],
   "source": [
    "datasaver.dataset.to_pandas_dataframe().plot()"
   ]
  },
  {
   "cell_type": "markdown",
   "id": "incomplete-vietnamese",
   "metadata": {},
   "source": [
    "When specifying multiple source parameters on a given parameter, the grouped parameter will automatically return a `namedtuple` that returns both values."
   ]
  },
  {
   "cell_type": "code",
   "execution_count": 15,
   "id": "dangerous-finder",
   "metadata": {
    "execution": {
     "iopub.execute_input": "2023-01-11T18:14:41.636623Z",
     "iopub.status.busy": "2023-01-11T18:14:41.636237Z",
     "iopub.status.idle": "2023-01-11T18:14:41.642043Z",
     "shell.execute_reply": "2023-01-11T18:14:41.641264Z"
    }
   },
   "outputs": [
    {
     "data": {
      "text/plain": [
       "combined(field=0.0, ramp_rate=10.0)"
      ]
     },
     "execution_count": 15,
     "metadata": {},
     "output_type": "execute_result"
    }
   ],
   "source": [
    "field.combined()"
   ]
  },
  {
   "cell_type": "markdown",
   "id": "consolidated-cooper",
   "metadata": {},
   "source": [
    "We can now also create a custom parameter that does a simple calculation based on the current parameters."
   ]
  },
  {
   "cell_type": "code",
   "execution_count": 16,
   "id": "designed-bloom",
   "metadata": {
    "execution": {
     "iopub.execute_input": "2023-01-11T18:14:41.645014Z",
     "iopub.status.busy": "2023-01-11T18:14:41.644768Z",
     "iopub.status.idle": "2023-01-11T18:14:41.648779Z",
     "shell.execute_reply": "2023-01-11T18:14:41.648130Z"
    }
   },
   "outputs": [],
   "source": [
    "import numpy as np\n",
    "\n",
    "\n",
    "def calculate_ramp_time(X, ramp_rate):\n",
    "    \"\"\"Calculate ramp time in seconds\"\"\"\n",
    "    dfield = np.abs(field.target_field - X)\n",
    "    return 60. * dfield/ramp_rate"
   ]
  },
  {
   "cell_type": "code",
   "execution_count": 17,
   "id": "disabled-logic",
   "metadata": {
    "execution": {
     "iopub.execute_input": "2023-01-11T18:14:41.651977Z",
     "iopub.status.busy": "2023-01-11T18:14:41.651388Z",
     "iopub.status.idle": "2023-01-11T18:14:41.655242Z",
     "shell.execute_reply": "2023-01-11T18:14:41.654608Z"
    },
    "scrolled": true
   },
   "outputs": [],
   "source": [
    "field._create_and_add_parameter(\n",
    "    group_name=\"ramp_time\",\n",
    "    station=station,\n",
    "    paths=[\"field_X.field\", \"field_X.ramp_rate\"],\n",
    "    formatter=calculate_ramp_time\n",
    ")"
   ]
  },
  {
   "cell_type": "code",
   "execution_count": 18,
   "id": "adverse-february",
   "metadata": {
    "execution": {
     "iopub.execute_input": "2023-01-11T18:14:41.657792Z",
     "iopub.status.busy": "2023-01-11T18:14:41.657576Z",
     "iopub.status.idle": "2023-01-11T18:14:41.663107Z",
     "shell.execute_reply": "2023-01-11T18:14:41.662328Z"
    }
   },
   "outputs": [
    {
     "data": {
      "text/plain": [
       "6.0"
      ]
     },
     "execution_count": 18,
     "metadata": {},
     "output_type": "execute_result"
    }
   ],
   "source": [
    "field.ramp_rate(1.0)\n",
    "field.target_field = 0.1\n",
    "field.ramp_time()"
   ]
  },
  {
   "cell_type": "code",
   "execution_count": 19,
   "id": "statutory-xerox",
   "metadata": {
    "execution": {
     "iopub.execute_input": "2023-01-11T18:14:41.666667Z",
     "iopub.status.busy": "2023-01-11T18:14:41.666428Z",
     "iopub.status.idle": "2023-01-11T18:14:41.669863Z",
     "shell.execute_reply": "2023-01-11T18:14:41.669157Z"
    }
   },
   "outputs": [],
   "source": [
    "field.X(0.1)"
   ]
  },
  {
   "cell_type": "code",
   "execution_count": 20,
   "id": "varying-auditor",
   "metadata": {
    "execution": {
     "iopub.execute_input": "2023-01-11T18:14:41.673229Z",
     "iopub.status.busy": "2023-01-11T18:14:41.672585Z",
     "iopub.status.idle": "2023-01-11T18:14:41.676998Z",
     "shell.execute_reply": "2023-01-11T18:14:41.676391Z"
    }
   },
   "outputs": [
    {
     "data": {
      "text/plain": [
       "5.993460178375244"
      ]
     },
     "execution_count": 20,
     "metadata": {},
     "output_type": "execute_result"
    }
   ],
   "source": [
    "field.ramp_time()"
   ]
  },
  {
   "cell_type": "code",
   "execution_count": 21,
   "id": "chubby-nickel",
   "metadata": {
    "execution": {
     "iopub.execute_input": "2023-01-11T18:14:41.680203Z",
     "iopub.status.busy": "2023-01-11T18:14:41.679593Z",
     "iopub.status.idle": "2023-01-11T18:14:42.690089Z",
     "shell.execute_reply": "2023-01-11T18:14:42.686770Z"
    }
   },
   "outputs": [
    {
     "data": {
      "text/plain": [
       "4.985171794891358"
      ]
     },
     "execution_count": 21,
     "metadata": {},
     "output_type": "execute_result"
    }
   ],
   "source": [
    "import time\n",
    "\n",
    "time.sleep(1.)\n",
    "field.ramp_time()"
   ]
  },
  {
   "cell_type": "code",
   "execution_count": 22,
   "id": "italian-liberty",
   "metadata": {
    "execution": {
     "iopub.execute_input": "2023-01-11T18:14:42.694065Z",
     "iopub.status.busy": "2023-01-11T18:14:42.693600Z",
     "iopub.status.idle": "2023-01-11T18:14:43.702526Z",
     "shell.execute_reply": "2023-01-11T18:14:43.701416Z"
    }
   },
   "outputs": [
    {
     "data": {
      "text/plain": [
       "3.971118688583374"
      ]
     },
     "execution_count": 22,
     "metadata": {},
     "output_type": "execute_result"
    }
   ],
   "source": [
    "import time\n",
    "\n",
    "time.sleep(1.)\n",
    "field.ramp_time()"
   ]
  },
  {
   "attachments": {},
   "cell_type": "markdown",
   "id": "c1145a2d",
   "metadata": {},
   "source": [
    "## Devices with channels"
   ]
  },
  {
   "cell_type": "markdown",
   "id": "182693f8",
   "metadata": {},
   "source": [
    "The YAML file below specifies the instruments with the channels/parameters we wish to group into a new instrument, here called \"device\". The first example simply adds the channel 'as is' using self.add_submodule, while the readout parameter is added as a DelegateParameter."
   ]
  },
  {
   "cell_type": "code",
   "execution_count": 23,
   "id": "a88d5103",
   "metadata": {
    "execution": {
     "iopub.execute_input": "2023-01-11T18:14:43.706478Z",
     "iopub.status.busy": "2023-01-11T18:14:43.705839Z",
     "iopub.status.idle": "2023-01-11T18:14:43.710990Z",
     "shell.execute_reply": "2023-01-11T18:14:43.710114Z"
    }
   },
   "outputs": [
    {
     "name": "stdout",
     "output_type": "stream",
     "text": [
      "Overwriting example.yaml\n"
     ]
    }
   ],
   "source": [
    "%%writefile example.yaml\n",
    "\n",
    "instruments:\n",
    "  lockin:\n",
    "    type: qcodes.tests.instrument_mocks.MockLockin\n",
    "\n",
    "  dac:\n",
    "    type: qcodes.tests.instrument_mocks.MockDAC   \n",
    "\n",
    "  device:\n",
    "    type: qcodes.instrument.delegate.DelegateInstrument\n",
    "    init:\n",
    "      parameters:\n",
    "        readout: lockin.X\n",
    "      channels:\n",
    "        gate_1: dac.ch01\n",
    "      set_initial_values_on_load: true\n",
    "      initial_values:\n",
    "        readout: 1e-5\n",
    "        gate_1.voltage.post_delay: 0.01"
   ]
  },
  {
   "cell_type": "code",
   "execution_count": 24,
   "id": "91f2a8ab",
   "metadata": {
    "execution": {
     "iopub.execute_input": "2023-01-11T18:14:43.714351Z",
     "iopub.status.busy": "2023-01-11T18:14:43.714123Z",
     "iopub.status.idle": "2023-01-11T18:14:43.728144Z",
     "shell.execute_reply": "2023-01-11T18:14:43.727504Z"
    }
   },
   "outputs": [],
   "source": [
    "station = qc.Station(config_file=\"example.yaml\")"
   ]
  },
  {
   "cell_type": "code",
   "execution_count": 25,
   "id": "45b22762",
   "metadata": {
    "execution": {
     "iopub.execute_input": "2023-01-11T18:14:43.731627Z",
     "iopub.status.busy": "2023-01-11T18:14:43.731155Z",
     "iopub.status.idle": "2023-01-11T18:14:43.772874Z",
     "shell.execute_reply": "2023-01-11T18:14:43.771521Z"
    }
   },
   "outputs": [],
   "source": [
    "lockin = station.load_lockin()\n",
    "dac = station.load_dac()\n",
    "device = station.load_device(station=station)"
   ]
  },
  {
   "cell_type": "code",
   "execution_count": 26,
   "id": "9bfa54fb",
   "metadata": {
    "execution": {
     "iopub.execute_input": "2023-01-11T18:14:43.776372Z",
     "iopub.status.busy": "2023-01-11T18:14:43.775859Z",
     "iopub.status.idle": "2023-01-11T18:14:43.779995Z",
     "shell.execute_reply": "2023-01-11T18:14:43.779227Z"
    }
   },
   "outputs": [
    {
     "name": "stdout",
     "output_type": "stream",
     "text": [
      "<MockDACChannel: dac_ch01 of MockDAC: dac>\n",
      "0.01\n"
     ]
    }
   ],
   "source": [
    "print(device.gate_1)\n",
    "print(device.gate_1.voltage.post_delay)"
   ]
  },
  {
   "cell_type": "code",
   "execution_count": 27,
   "id": "91d57fe0",
   "metadata": {
    "execution": {
     "iopub.execute_input": "2023-01-11T18:14:43.784750Z",
     "iopub.status.busy": "2023-01-11T18:14:43.784509Z",
     "iopub.status.idle": "2023-01-11T18:14:43.800085Z",
     "shell.execute_reply": "2023-01-11T18:14:43.799239Z"
    }
   },
   "outputs": [
    {
     "name": "stdout",
     "output_type": "stream",
     "text": [
      "0.0\n"
     ]
    },
    {
     "data": {
      "text/plain": [
       "-0.6"
      ]
     },
     "execution_count": 27,
     "metadata": {},
     "output_type": "execute_result"
    }
   ],
   "source": [
    "print(device.gate_1.voltage())\n",
    "device.gate_1.voltage(-0.6)\n",
    "device.gate_1.voltage()"
   ]
  },
  {
   "cell_type": "markdown",
   "id": "37e1c2c3",
   "metadata": {},
   "source": [
    "The second example adds a channel using a custom channel class, which takes the initial channel and its name as input and has a parameter current_valid_ranges."
   ]
  },
  {
   "cell_type": "code",
   "execution_count": 28,
   "id": "7e4becd1",
   "metadata": {
    "execution": {
     "iopub.execute_input": "2023-01-11T18:14:43.804120Z",
     "iopub.status.busy": "2023-01-11T18:14:43.803909Z",
     "iopub.status.idle": "2023-01-11T18:14:43.808370Z",
     "shell.execute_reply": "2023-01-11T18:14:43.807707Z"
    }
   },
   "outputs": [
    {
     "name": "stdout",
     "output_type": "stream",
     "text": [
      "Overwriting example.yaml\n"
     ]
    }
   ],
   "source": [
    "%%writefile example.yaml\n",
    "\n",
    "instruments:\n",
    "  lockin:\n",
    "    type: qcodes.tests.instrument_mocks.MockLockin\n",
    "\n",
    "  dac:\n",
    "    type: qcodes.tests.instrument_mocks.MockDAC   \n",
    "\n",
    "  device:\n",
    "    type: qcodes.instrument.delegate.DelegateInstrument\n",
    "    init:\n",
    "      parameters:\n",
    "        readout: lockin.X\n",
    "      channels:\n",
    "        type: qcodes.tests.instrument_mocks.MockCustomChannel\n",
    "        gate_1: \n",
    "          channel: dac.ch01\n",
    "          current_valid_range: [-0.5, 0]\n",
    "      set_initial_values_on_load: true\n",
    "      initial_values:\n",
    "        readout: 1e-5"
   ]
  },
  {
   "cell_type": "code",
   "execution_count": 29,
   "id": "2e3ca8d5",
   "metadata": {
    "execution": {
     "iopub.execute_input": "2023-01-11T18:14:43.812493Z",
     "iopub.status.busy": "2023-01-11T18:14:43.812254Z",
     "iopub.status.idle": "2023-01-11T18:14:43.815827Z",
     "shell.execute_reply": "2023-01-11T18:14:43.814966Z"
    }
   },
   "outputs": [],
   "source": [
    "lockin.close()\n",
    "dac.close()"
   ]
  },
  {
   "cell_type": "code",
   "execution_count": 30,
   "id": "2f2d2b2b",
   "metadata": {
    "execution": {
     "iopub.execute_input": "2023-01-11T18:14:43.819190Z",
     "iopub.status.busy": "2023-01-11T18:14:43.818956Z",
     "iopub.status.idle": "2023-01-11T18:14:43.860695Z",
     "shell.execute_reply": "2023-01-11T18:14:43.860005Z"
    }
   },
   "outputs": [],
   "source": [
    "station = qc.Station(config_file=\"example.yaml\")\n",
    "lockin = station.load_lockin()\n",
    "dac = station.load_dac()"
   ]
  },
  {
   "cell_type": "code",
   "execution_count": 31,
   "id": "9cb653b0",
   "metadata": {
    "execution": {
     "iopub.execute_input": "2023-01-11T18:14:43.864299Z",
     "iopub.status.busy": "2023-01-11T18:14:43.863751Z",
     "iopub.status.idle": "2023-01-11T18:14:43.879604Z",
     "shell.execute_reply": "2023-01-11T18:14:43.878663Z"
    }
   },
   "outputs": [],
   "source": [
    "device = station.load_device(station=station)"
   ]
  },
  {
   "cell_type": "code",
   "execution_count": 32,
   "id": "433d9646",
   "metadata": {
    "execution": {
     "iopub.execute_input": "2023-01-11T18:14:43.882847Z",
     "iopub.status.busy": "2023-01-11T18:14:43.882362Z",
     "iopub.status.idle": "2023-01-11T18:14:43.887214Z",
     "shell.execute_reply": "2023-01-11T18:14:43.886531Z"
    }
   },
   "outputs": [
    {
     "data": {
      "text/plain": [
       "<MockCustomChannel: dac_gate_1 of MockDAC: dac>"
      ]
     },
     "execution_count": 32,
     "metadata": {},
     "output_type": "execute_result"
    }
   ],
   "source": [
    "device.gate_1"
   ]
  },
  {
   "cell_type": "code",
   "execution_count": 33,
   "id": "3d2b8faa",
   "metadata": {
    "execution": {
     "iopub.execute_input": "2023-01-11T18:14:43.890648Z",
     "iopub.status.busy": "2023-01-11T18:14:43.890436Z",
     "iopub.status.idle": "2023-01-11T18:14:43.893826Z",
     "shell.execute_reply": "2023-01-11T18:14:43.893151Z"
    }
   },
   "outputs": [],
   "source": [
    "device.gate_1.voltage(-0.3)"
   ]
  },
  {
   "cell_type": "code",
   "execution_count": 34,
   "id": "49def342",
   "metadata": {
    "execution": {
     "iopub.execute_input": "2023-01-11T18:14:43.896792Z",
     "iopub.status.busy": "2023-01-11T18:14:43.896553Z",
     "iopub.status.idle": "2023-01-11T18:14:43.901123Z",
     "shell.execute_reply": "2023-01-11T18:14:43.900383Z"
    }
   },
   "outputs": [
    {
     "data": {
      "text/plain": [
       "-0.3"
      ]
     },
     "execution_count": 34,
     "metadata": {},
     "output_type": "execute_result"
    }
   ],
   "source": [
    "device.gate_1.voltage()"
   ]
  },
  {
   "cell_type": "markdown",
   "id": "7b122128",
   "metadata": {},
   "source": [
    "The MockCustomChannel has a parameter `current_valid_range`."
   ]
  },
  {
   "cell_type": "code",
   "execution_count": 35,
   "id": "d32a06fd",
   "metadata": {
    "execution": {
     "iopub.execute_input": "2023-01-11T18:14:43.905404Z",
     "iopub.status.busy": "2023-01-11T18:14:43.904838Z",
     "iopub.status.idle": "2023-01-11T18:14:43.909708Z",
     "shell.execute_reply": "2023-01-11T18:14:43.908951Z"
    }
   },
   "outputs": [
    {
     "data": {
      "text/plain": [
       "[-0.5, 0]"
      ]
     },
     "execution_count": 35,
     "metadata": {},
     "output_type": "execute_result"
    }
   ],
   "source": [
    "device.gate_1.current_valid_range()"
   ]
  }
 ],
 "metadata": {
  "kernelspec": {
   "display_name": "Python 3 (ipykernel)",
   "language": "python",
   "name": "python3"
  },
  "language_info": {
   "codemirror_mode": {
    "name": "ipython",
    "version": 3
   },
   "file_extension": ".py",
   "mimetype": "text/x-python",
   "name": "python",
   "nbconvert_exporter": "python",
   "pygments_lexer": "ipython3",
   "version": "3.10.9"
  }
 },
 "nbformat": 4,
 "nbformat_minor": 5
}
